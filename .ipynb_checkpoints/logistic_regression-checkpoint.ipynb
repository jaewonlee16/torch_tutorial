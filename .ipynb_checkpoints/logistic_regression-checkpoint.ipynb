{
 "cells": [
  {
   "cell_type": "code",
   "execution_count": 1,
   "metadata": {},
   "outputs": [],
   "source": [
    "import numpy as np\n",
    "\n",
    "import torch\n",
    "import torch.nn as nn\n",
    "import torch.nn.functional as F\n",
    "import torch.optim as optim\n",
    "\n",
    "from torch.utils.data import Dataset\n",
    "from torch.utils.data import DataLoader"
   ]
  },
  {
   "cell_type": "code",
   "execution_count": 8,
   "metadata": {},
   "outputs": [],
   "source": [
    "x_data = [[1, 2], [2, 3], [3, 1], [4, 3], [5, 3], [6, 2]]\n",
    "y_data = [[0], [0], [0], [1], [1], [1]]\n",
    "x_train = torch.FloatTensor(x_data)\n",
    "y_train = torch.FloatTensor(y_data)"
   ]
  },
  {
   "cell_type": "code",
   "execution_count": 12,
   "metadata": {},
   "outputs": [],
   "source": [
    "class BinaryClassifier(nn.Module):\n",
    "    def __init__(self):\n",
    "        super().__init__()\n",
    "        self.linear = nn.Linear(2, 1)\n",
    "        self.sigmoid = nn.Sigmoid()\n",
    "    \n",
    "    def forward(self, x):\n",
    "        return (self.sigmoid(self.linear(x)))"
   ]
  },
  {
   "cell_type": "code",
   "execution_count": 13,
   "metadata": {},
   "outputs": [],
   "source": [
    "model = BinaryClassifier()\n",
    "\n",
    "optimizer = optim.SGD(model.parameters(), lr = 0.1)\n"
   ]
  },
  {
   "cell_type": "code",
   "execution_count": 18,
   "metadata": {},
   "outputs": [
    {
     "name": "stdout",
     "output_type": "stream",
     "text": [
      "epoch:    0/1000  prediction tensor([0.0042, 0.0857, 0.1224, 0.8841, 0.9857, 0.9961])  loss 0.060990508645772934\n",
      "epoch:  100/1000  prediction tensor([0.0039, 0.0837, 0.1188, 0.8868, 0.9864, 0.9963])  loss 0.05924369767308235\n",
      "epoch:  200/1000  prediction tensor([0.0037, 0.0818, 0.1154, 0.8893, 0.9871, 0.9965])  loss 0.057596396654844284\n",
      "epoch:  300/1000  prediction tensor([0.0034, 0.0800, 0.1122, 0.8917, 0.9877, 0.9967])  loss 0.05604015663266182\n",
      "epoch:  400/1000  prediction tensor([0.0032, 0.0783, 0.1092, 0.8940, 0.9882, 0.9969])  loss 0.05456765368580818\n",
      "epoch:  500/1000  prediction tensor([0.0030, 0.0766, 0.1064, 0.8962, 0.9888, 0.9970])  loss 0.05317210778594017\n",
      "epoch:  600/1000  prediction tensor([0.0029, 0.0750, 0.1036, 0.8983, 0.9893, 0.9972])  loss 0.051847610622644424\n",
      "epoch:  700/1000  prediction tensor([0.0027, 0.0735, 0.1011, 0.9003, 0.9897, 0.9973])  loss 0.05058881267905235\n",
      "epoch:  800/1000  prediction tensor([0.0026, 0.0720, 0.0986, 0.9023, 0.9902, 0.9975])  loss 0.04939087852835655\n",
      "epoch:  900/1000  prediction tensor([0.0024, 0.0706, 0.0963, 0.9041, 0.9906, 0.9976])  loss 0.04824948310852051\n"
     ]
    }
   ],
   "source": [
    "epochs = 1000\n",
    "\n",
    "for epoch in range(epochs):\n",
    "    prediction = model.forward(x_train)\n",
    "    loss = F.binary_cross_entropy(prediction, y_train)\n",
    "\n",
    "    optimizer.zero_grad()\n",
    "    loss.backward()\n",
    "    optimizer.step()\n",
    "\n",
    "    if epoch % 100 == 0:\n",
    "        print('epoch: {:4d}/{}  prediction {}  loss {}'.format(\n",
    "            epoch, epochs, prediction.squeeze().detach(), loss\n",
    "        ))"
   ]
  },
  {
   "cell_type": "code",
   "execution_count": 19,
   "metadata": {},
   "outputs": [
    {
     "name": "stdout",
     "output_type": "stream",
     "text": [
      "tensor([[False],\n",
      "        [False],\n",
      "        [False],\n",
      "        [ True],\n",
      "        [ True],\n",
      "        [ True]])\n"
     ]
    }
   ],
   "source": [
    "print(prediction >= 0.5)"
   ]
  },
  {
   "cell_type": "code",
   "execution_count": null,
   "metadata": {},
   "outputs": [],
   "source": []
  }
 ],
 "metadata": {
  "kernelspec": {
   "display_name": "Python 3 (ipykernel)",
   "language": "python",
   "name": "python3"
  },
  "language_info": {
   "codemirror_mode": {
    "name": "ipython",
    "version": 3
   },
   "file_extension": ".py",
   "mimetype": "text/x-python",
   "name": "python",
   "nbconvert_exporter": "python",
   "pygments_lexer": "ipython3",
   "version": "3.11.4"
  }
 },
 "nbformat": 4,
 "nbformat_minor": 2
}
