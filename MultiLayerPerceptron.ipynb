{
  "cells": [
    {
      "cell_type": "markdown",
      "metadata": {
        "id": "view-in-github",
        "colab_type": "text"
      },
      "source": [
        "<a href=\"https://colab.research.google.com/github/jaewonlee16/torch_tutorial/blob/master/MultiLayerPerceptron.ipynb\" target=\"_parent\"><img src=\"https://colab.research.google.com/assets/colab-badge.svg\" alt=\"Open In Colab\"/></a>"
      ]
    },
    {
      "cell_type": "code",
      "execution_count": 4,
      "metadata": {
        "id": "U9_IC8eFLhQS"
      },
      "outputs": [],
      "source": [
        "import torch\n",
        "import torch.nn as nn\n",
        "from tqdm import tqdm"
      ]
    },
    {
      "cell_type": "code",
      "execution_count": 2,
      "metadata": {
        "id": "-gY3W9SxLhQT",
        "outputId": "d6fdab5d-5afc-40fd-9c2f-7d0534a63cf6",
        "colab": {
          "base_uri": "https://localhost:8080/"
        }
      },
      "outputs": [
        {
          "output_type": "stream",
          "name": "stdout",
          "text": [
            "current device:  cuda\n"
          ]
        }
      ],
      "source": [
        "device = 'cuda' if torch.cuda.is_available() else 'cpu'\n",
        "print('current device: ', device)"
      ]
    },
    {
      "cell_type": "code",
      "execution_count": 3,
      "metadata": {
        "id": "xJ2mcUAOLhQU"
      },
      "outputs": [],
      "source": [
        "X = torch.tensor([[0, 0], [0, 1], [1, 0], [1, 1]], dtype = torch.float).to(device)\n",
        "Y = torch.tensor([[0], [1], [1], [0]], dtype = torch.float).to(device)"
      ]
    },
    {
      "cell_type": "code",
      "execution_count": 5,
      "metadata": {
        "id": "pk7ro--hLhQU"
      },
      "outputs": [],
      "source": [
        "model = nn.Sequential(\n",
        "    nn.Linear(2, 10, bias = True),\n",
        "    nn.Sigmoid(),\n",
        "    nn.Linear(10, 10, bias = True),\n",
        "    nn.Sigmoid(),\n",
        "    nn.Linear(10, 10, bias = True),\n",
        "    nn.Sigmoid(),\n",
        "    nn.Linear(10, 1, bias = True),\n",
        "    nn.Sigmoid()\n",
        ").to(device)"
      ]
    },
    {
      "cell_type": "code",
      "execution_count": 10,
      "metadata": {
        "id": "Qy6lkvjdLhQU"
      },
      "outputs": [],
      "source": [
        "criterion = torch.nn.BCELoss().to(device)\n",
        "optimizer = torch.optim.SGD(model.parameters(), lr=1)"
      ]
    },
    {
      "cell_type": "code",
      "execution_count": 11,
      "metadata": {
        "id": "-PjC86l0LhQU",
        "outputId": "e8e6da1e-bd36-4383-ec68-d5511361a41b",
        "colab": {
          "base_uri": "https://localhost:8080/"
        }
      },
      "outputs": [
        {
          "output_type": "stream",
          "name": "stderr",
          "text": [
            "  2%|▏         | 192/10000 [00:00<00:10, 960.52it/s]"
          ]
        },
        {
          "output_type": "stream",
          "name": "stdout",
          "text": [
            "epoch:    0/10000, cost: 0.6931423544883728\n",
            "epoch:  100/10000, cost: 0.693141758441925\n"
          ]
        },
        {
          "output_type": "stream",
          "name": "stderr",
          "text": [
            "  4%|▍         | 384/10000 [00:00<00:10, 911.45it/s]"
          ]
        },
        {
          "output_type": "stream",
          "name": "stdout",
          "text": [
            "epoch:  200/10000, cost: 0.6931410431861877\n",
            "epoch:  300/10000, cost: 0.69314044713974\n"
          ]
        },
        {
          "output_type": "stream",
          "name": "stderr",
          "text": [
            "  6%|▌         | 567/10000 [00:00<00:10, 905.78it/s]"
          ]
        },
        {
          "output_type": "stream",
          "name": "stdout",
          "text": [
            "epoch:  400/10000, cost: 0.6931397914886475\n",
            "epoch:  500/10000, cost: 0.6931391954421997\n"
          ]
        },
        {
          "output_type": "stream",
          "name": "stderr",
          "text": [
            "  8%|▊         | 751/10000 [00:00<00:10, 896.19it/s]"
          ]
        },
        {
          "output_type": "stream",
          "name": "stdout",
          "text": [
            "epoch:  600/10000, cost: 0.6931384205818176\n",
            "epoch:  700/10000, cost: 0.6931377053260803\n"
          ]
        },
        {
          "output_type": "stream",
          "name": "stderr",
          "text": [
            "  9%|▉         | 934/10000 [00:01<00:10, 893.53it/s]"
          ]
        },
        {
          "output_type": "stream",
          "name": "stdout",
          "text": [
            "epoch:  800/10000, cost: 0.6931370496749878\n",
            "epoch:  900/10000, cost: 0.6931362748146057\n"
          ]
        },
        {
          "output_type": "stream",
          "name": "stderr",
          "text": [
            " 11%|█         | 1115/10000 [00:01<00:10, 880.73it/s]"
          ]
        },
        {
          "output_type": "stream",
          "name": "stdout",
          "text": [
            "epoch: 1000/10000, cost: 0.6931353807449341\n",
            "epoch: 1100/10000, cost: 0.6931346654891968\n"
          ]
        },
        {
          "output_type": "stream",
          "name": "stderr",
          "text": [
            " 13%|█▎        | 1295/10000 [00:01<00:09, 878.06it/s]"
          ]
        },
        {
          "output_type": "stream",
          "name": "stdout",
          "text": [
            "epoch: 1200/10000, cost: 0.6931337118148804\n",
            "epoch: 1300/10000, cost: 0.6931328773498535\n"
          ]
        },
        {
          "output_type": "stream",
          "name": "stderr",
          "text": [
            " 16%|█▌        | 1562/10000 [00:01<00:09, 864.14it/s]"
          ]
        },
        {
          "output_type": "stream",
          "name": "stdout",
          "text": [
            "epoch: 1400/10000, cost: 0.6931319236755371\n",
            "epoch: 1500/10000, cost: 0.6931309700012207\n"
          ]
        },
        {
          "output_type": "stream",
          "name": "stderr",
          "text": [
            " 17%|█▋        | 1746/10000 [00:01<00:09, 890.67it/s]"
          ]
        },
        {
          "output_type": "stream",
          "name": "stdout",
          "text": [
            "epoch: 1600/10000, cost: 0.6931298971176147\n",
            "epoch: 1700/10000, cost: 0.6931288242340088\n"
          ]
        },
        {
          "output_type": "stream",
          "name": "stderr",
          "text": [
            " 19%|█▉        | 1928/10000 [00:02<00:08, 899.29it/s]"
          ]
        },
        {
          "output_type": "stream",
          "name": "stdout",
          "text": [
            "epoch: 1800/10000, cost: 0.6931276917457581\n",
            "epoch: 1900/10000, cost: 0.6931264400482178\n"
          ]
        },
        {
          "output_type": "stream",
          "name": "stderr",
          "text": [
            " 21%|██        | 2115/10000 [00:02<00:08, 914.63it/s]"
          ]
        },
        {
          "output_type": "stream",
          "name": "stdout",
          "text": [
            "epoch: 2000/10000, cost: 0.6931251287460327\n",
            "epoch: 2100/10000, cost: 0.6931238770484924\n"
          ]
        },
        {
          "output_type": "stream",
          "name": "stderr",
          "text": [
            " 23%|██▎       | 2297/10000 [00:02<00:09, 825.15it/s]"
          ]
        },
        {
          "output_type": "stream",
          "name": "stdout",
          "text": [
            "epoch: 2200/10000, cost: 0.6931223273277283\n",
            "epoch: 2300/10000, cost: 0.6931207776069641\n"
          ]
        },
        {
          "output_type": "stream",
          "name": "stderr",
          "text": [
            " 25%|██▌       | 2541/10000 [00:02<00:09, 761.17it/s]"
          ]
        },
        {
          "output_type": "stream",
          "name": "stdout",
          "text": [
            "epoch: 2400/10000, cost: 0.6931191086769104\n",
            "epoch: 2500/10000, cost: 0.6931173205375671\n"
          ]
        },
        {
          "output_type": "stream",
          "name": "stderr",
          "text": [
            " 27%|██▋       | 2697/10000 [00:03<00:09, 752.26it/s]"
          ]
        },
        {
          "output_type": "stream",
          "name": "stdout",
          "text": [
            "epoch: 2600/10000, cost: 0.6931154727935791\n",
            "epoch: 2700/10000, cost: 0.693113386631012\n"
          ]
        },
        {
          "output_type": "stream",
          "name": "stderr",
          "text": [
            " 29%|██▉       | 2931/10000 [00:03<00:09, 749.72it/s]"
          ]
        },
        {
          "output_type": "stream",
          "name": "stdout",
          "text": [
            "epoch: 2800/10000, cost: 0.6931111812591553\n",
            "epoch: 2900/10000, cost: 0.6931086778640747\n"
          ]
        },
        {
          "output_type": "stream",
          "name": "stderr",
          "text": [
            " 31%|███       | 3082/10000 [00:03<00:09, 745.01it/s]"
          ]
        },
        {
          "output_type": "stream",
          "name": "stdout",
          "text": [
            "epoch: 3000/10000, cost: 0.6931059956550598\n",
            "epoch: 3100/10000, cost: 0.6931030750274658\n"
          ]
        },
        {
          "output_type": "stream",
          "name": "stderr",
          "text": [
            " 33%|███▎      | 3307/10000 [00:03<00:09, 739.49it/s]"
          ]
        },
        {
          "output_type": "stream",
          "name": "stdout",
          "text": [
            "epoch: 3200/10000, cost: 0.6930999159812927\n",
            "epoch: 3300/10000, cost: 0.693096399307251\n"
          ]
        },
        {
          "output_type": "stream",
          "name": "stderr",
          "text": [
            " 35%|███▌      | 3533/10000 [00:04<00:08, 729.32it/s]"
          ]
        },
        {
          "output_type": "stream",
          "name": "stdout",
          "text": [
            "epoch: 3400/10000, cost: 0.6930925846099854\n",
            "epoch: 3500/10000, cost: 0.6930882334709167\n"
          ]
        },
        {
          "output_type": "stream",
          "name": "stderr",
          "text": [
            " 37%|███▋      | 3679/10000 [00:04<00:09, 687.45it/s]"
          ]
        },
        {
          "output_type": "stream",
          "name": "stdout",
          "text": [
            "epoch: 3600/10000, cost: 0.6930834650993347\n",
            "epoch: 3700/10000, cost: 0.6930780410766602\n"
          ]
        },
        {
          "output_type": "stream",
          "name": "stderr",
          "text": [
            " 39%|███▉      | 3926/10000 [00:04<00:07, 782.74it/s]"
          ]
        },
        {
          "output_type": "stream",
          "name": "stdout",
          "text": [
            "epoch: 3800/10000, cost: 0.6930719614028931\n",
            "epoch: 3900/10000, cost: 0.6930651068687439\n"
          ]
        },
        {
          "output_type": "stream",
          "name": "stderr",
          "text": [
            " 41%|████      | 4104/10000 [00:05<00:07, 838.36it/s]"
          ]
        },
        {
          "output_type": "stream",
          "name": "stdout",
          "text": [
            "epoch: 4000/10000, cost: 0.6930571794509888\n",
            "epoch: 4100/10000, cost: 0.6930481791496277\n"
          ]
        },
        {
          "output_type": "stream",
          "name": "stderr",
          "text": [
            " 44%|████▍     | 4385/10000 [00:05<00:06, 900.40it/s]"
          ]
        },
        {
          "output_type": "stream",
          "name": "stdout",
          "text": [
            "epoch: 4200/10000, cost: 0.693037748336792\n",
            "epoch: 4300/10000, cost: 0.6930254697799683\n"
          ]
        },
        {
          "output_type": "stream",
          "name": "stderr",
          "text": [
            "\r 45%|████▍     | 4476/10000 [00:05<00:06, 889.69it/s]"
          ]
        },
        {
          "output_type": "stream",
          "name": "stdout",
          "text": [
            "epoch: 4400/10000, cost: 0.6930109858512878\n",
            "epoch: 4500/10000, cost: 0.6929936408996582\n"
          ]
        },
        {
          "output_type": "stream",
          "name": "stderr",
          "text": [
            " 48%|████▊     | 4753/10000 [00:05<00:05, 880.62it/s]"
          ]
        },
        {
          "output_type": "stream",
          "name": "stdout",
          "text": [
            "epoch: 4600/10000, cost: 0.692972719669342\n",
            "epoch: 4700/10000, cost: 0.6929469108581543\n"
          ]
        },
        {
          "output_type": "stream",
          "name": "stderr",
          "text": [
            " 49%|████▉     | 4935/10000 [00:05<00:05, 888.75it/s]"
          ]
        },
        {
          "output_type": "stream",
          "name": "stdout",
          "text": [
            "epoch: 4800/10000, cost: 0.6929146647453308\n",
            "epoch: 4900/10000, cost: 0.6928735375404358\n"
          ]
        },
        {
          "output_type": "stream",
          "name": "stderr",
          "text": [
            " 51%|█████     | 5120/10000 [00:06<00:05, 906.60it/s]"
          ]
        },
        {
          "output_type": "stream",
          "name": "stdout",
          "text": [
            "epoch: 5000/10000, cost: 0.6928197145462036\n",
            "epoch: 5100/10000, cost: 0.6927472352981567\n"
          ]
        },
        {
          "output_type": "stream",
          "name": "stderr",
          "text": [
            " 53%|█████▎    | 5306/10000 [00:06<00:05, 914.07it/s]"
          ]
        },
        {
          "output_type": "stream",
          "name": "stdout",
          "text": [
            "epoch: 5200/10000, cost: 0.6926460266113281\n",
            "epoch: 5300/10000, cost: 0.6924978494644165\n"
          ]
        },
        {
          "output_type": "stream",
          "name": "stderr",
          "text": [
            " 56%|█████▌    | 5584/10000 [00:06<00:04, 914.94it/s]"
          ]
        },
        {
          "output_type": "stream",
          "name": "stdout",
          "text": [
            "epoch: 5400/10000, cost: 0.6922674179077148\n",
            "epoch: 5500/10000, cost: 0.691878080368042\n"
          ]
        },
        {
          "output_type": "stream",
          "name": "stderr",
          "text": [
            "\r 57%|█████▋    | 5676/10000 [00:06<00:04, 881.47it/s]"
          ]
        },
        {
          "output_type": "stream",
          "name": "stdout",
          "text": [
            "epoch: 5600/10000, cost: 0.6911367177963257\n",
            "epoch: 5700/10000, cost: 0.6894363164901733\n"
          ]
        },
        {
          "output_type": "stream",
          "name": "stderr",
          "text": [
            " 59%|█████▉    | 5933/10000 [00:07<00:05, 787.97it/s]"
          ]
        },
        {
          "output_type": "stream",
          "name": "stdout",
          "text": [
            "epoch: 5800/10000, cost: 0.6840533018112183\n",
            "epoch: 5900/10000, cost: 0.6530985832214355\n"
          ]
        },
        {
          "output_type": "stream",
          "name": "stderr",
          "text": [
            " 61%|██████    | 6094/10000 [00:07<00:05, 769.25it/s]"
          ]
        },
        {
          "output_type": "stream",
          "name": "stdout",
          "text": [
            "epoch: 6000/10000, cost: 0.875775933265686\n",
            "epoch: 6100/10000, cost: 0.021107440814375877\n"
          ]
        },
        {
          "output_type": "stream",
          "name": "stderr",
          "text": [
            " 63%|██████▎   | 6328/10000 [00:07<00:04, 748.72it/s]"
          ]
        },
        {
          "output_type": "stream",
          "name": "stdout",
          "text": [
            "epoch: 6200/10000, cost: 0.006597001105546951\n",
            "epoch: 6300/10000, cost: 0.003645357908681035\n"
          ]
        },
        {
          "output_type": "stream",
          "name": "stderr",
          "text": [
            " 65%|██████▍   | 6478/10000 [00:07<00:04, 729.53it/s]"
          ]
        },
        {
          "output_type": "stream",
          "name": "stdout",
          "text": [
            "epoch: 6400/10000, cost: 0.002456996589899063\n",
            "epoch: 6500/10000, cost: 0.0018305988050997257\n"
          ]
        },
        {
          "output_type": "stream",
          "name": "stderr",
          "text": [
            " 67%|██████▋   | 6705/10000 [00:08<00:04, 745.12it/s]"
          ]
        },
        {
          "output_type": "stream",
          "name": "stdout",
          "text": [
            "epoch: 6600/10000, cost: 0.0014484903076663613\n",
            "epoch: 6700/10000, cost: 0.0011928975582122803\n"
          ]
        },
        {
          "output_type": "stream",
          "name": "stderr",
          "text": [
            " 69%|██████▉   | 6924/10000 [00:08<00:04, 706.79it/s]"
          ]
        },
        {
          "output_type": "stream",
          "name": "stdout",
          "text": [
            "epoch: 6800/10000, cost: 0.0010108405258506536\n",
            "epoch: 6900/10000, cost: 0.0008750124252401292\n"
          ]
        },
        {
          "output_type": "stream",
          "name": "stderr",
          "text": [
            " 71%|███████▏  | 7135/10000 [00:08<00:04, 687.80it/s]"
          ]
        },
        {
          "output_type": "stream",
          "name": "stdout",
          "text": [
            "epoch: 7000/10000, cost: 0.0007700806600041687\n",
            "epoch: 7100/10000, cost: 0.000686685205437243\n"
          ]
        },
        {
          "output_type": "stream",
          "name": "stderr",
          "text": [
            " 73%|███████▎  | 7284/10000 [00:09<00:03, 710.94it/s]"
          ]
        },
        {
          "output_type": "stream",
          "name": "stdout",
          "text": [
            "epoch: 7200/10000, cost: 0.0006189621635712683\n",
            "epoch: 7300/10000, cost: 0.0005628627259284258\n"
          ]
        },
        {
          "output_type": "stream",
          "name": "stderr",
          "text": [
            " 75%|███████▌  | 7549/10000 [00:09<00:02, 822.23it/s]"
          ]
        },
        {
          "output_type": "stream",
          "name": "stdout",
          "text": [
            "epoch: 7400/10000, cost: 0.0005157822743058205\n",
            "epoch: 7500/10000, cost: 0.0004756385169457644\n"
          ]
        },
        {
          "output_type": "stream",
          "name": "stderr",
          "text": [
            " 77%|███████▋  | 7727/10000 [00:09<00:02, 854.34it/s]"
          ]
        },
        {
          "output_type": "stream",
          "name": "stdout",
          "text": [
            "epoch: 7600/10000, cost: 0.000441111798863858\n",
            "epoch: 7700/10000, cost: 0.00041104372940026224\n"
          ]
        },
        {
          "output_type": "stream",
          "name": "stderr",
          "text": [
            " 79%|███████▉  | 7909/10000 [00:09<00:02, 852.55it/s]"
          ]
        },
        {
          "output_type": "stream",
          "name": "stdout",
          "text": [
            "epoch: 7800/10000, cost: 0.0003847090993076563\n",
            "epoch: 7900/10000, cost: 0.0003614031011238694\n"
          ]
        },
        {
          "output_type": "stream",
          "name": "stderr",
          "text": [
            " 82%|████████▏ | 8181/10000 [00:10<00:02, 881.56it/s]"
          ]
        },
        {
          "output_type": "stream",
          "name": "stdout",
          "text": [
            "epoch: 8000/10000, cost: 0.0003406696196179837\n",
            "epoch: 8100/10000, cost: 0.00032211028155870736\n"
          ]
        },
        {
          "output_type": "stream",
          "name": "stderr",
          "text": [
            " 84%|████████▎ | 8361/10000 [00:10<00:01, 887.30it/s]"
          ]
        },
        {
          "output_type": "stream",
          "name": "stdout",
          "text": [
            "epoch: 8200/10000, cost: 0.00030539222643710673\n",
            "epoch: 8300/10000, cost: 0.0002902449923567474\n"
          ]
        },
        {
          "output_type": "stream",
          "name": "stderr",
          "text": [
            " 85%|████████▌ | 8545/10000 [00:10<00:01, 901.72it/s]"
          ]
        },
        {
          "output_type": "stream",
          "name": "stdout",
          "text": [
            "epoch: 8400/10000, cost: 0.00027650719857774675\n",
            "epoch: 8500/10000, cost: 0.0002639696467667818\n"
          ]
        },
        {
          "output_type": "stream",
          "name": "stderr",
          "text": [
            " 87%|████████▋ | 8731/10000 [00:10<00:01, 914.49it/s]"
          ]
        },
        {
          "output_type": "stream",
          "name": "stdout",
          "text": [
            "epoch: 8600/10000, cost: 0.0002524640876799822\n",
            "epoch: 8700/10000, cost: 0.00024189421674236655\n"
          ]
        },
        {
          "output_type": "stream",
          "name": "stderr",
          "text": [
            " 89%|████████▉ | 8916/10000 [00:10<00:01, 887.51it/s]"
          ]
        },
        {
          "output_type": "stream",
          "name": "stdout",
          "text": [
            "epoch: 8800/10000, cost: 0.00023211620282381773\n",
            "epoch: 8900/10000, cost: 0.00022311057546176016\n"
          ]
        },
        {
          "output_type": "stream",
          "name": "stderr",
          "text": [
            " 91%|█████████ | 9102/10000 [00:11<00:00, 905.95it/s]"
          ]
        },
        {
          "output_type": "stream",
          "name": "stdout",
          "text": [
            "epoch: 9000/10000, cost: 0.00021474792447406799\n",
            "epoch: 9100/10000, cost: 0.00020696262072306126\n"
          ]
        },
        {
          "output_type": "stream",
          "name": "stderr",
          "text": [
            " 93%|█████████▎| 9288/10000 [00:11<00:00, 886.18it/s]"
          ]
        },
        {
          "output_type": "stream",
          "name": "stdout",
          "text": [
            "epoch: 9200/10000, cost: 0.00019969383720308542\n",
            "epoch: 9300/10000, cost: 0.0001929142017615959\n"
          ]
        },
        {
          "output_type": "stream",
          "name": "stderr",
          "text": [
            " 96%|█████████▌| 9561/10000 [00:11<00:00, 894.15it/s]"
          ]
        },
        {
          "output_type": "stream",
          "name": "stdout",
          "text": [
            "epoch: 9400/10000, cost: 0.0001865876402007416\n",
            "epoch: 9500/10000, cost: 0.00018063336028717458\n"
          ]
        },
        {
          "output_type": "stream",
          "name": "stderr",
          "text": [
            " 97%|█████████▋| 9741/10000 [00:11<00:00, 886.01it/s]"
          ]
        },
        {
          "output_type": "stream",
          "name": "stdout",
          "text": [
            "epoch: 9600/10000, cost: 0.0001750320807332173\n",
            "epoch: 9700/10000, cost: 0.00016976635379251093\n"
          ]
        },
        {
          "output_type": "stream",
          "name": "stderr",
          "text": [
            " 99%|█████████▉| 9928/10000 [00:11<00:00, 907.60it/s]"
          ]
        },
        {
          "output_type": "stream",
          "name": "stdout",
          "text": [
            "epoch: 9800/10000, cost: 0.00016480626072734594\n",
            "epoch: 9900/10000, cost: 0.00016008038073778152\n"
          ]
        },
        {
          "output_type": "stream",
          "name": "stderr",
          "text": [
            "\r100%|██████████| 10000/10000 [00:12<00:00, 829.32it/s]\n"
          ]
        }
      ],
      "source": [
        "epochs = 10000\n",
        "for epoch in tqdm(range(epochs)):\n",
        "    hypothesis = model.forward(X)\n",
        "\n",
        "    optimizer.zero_grad()\n",
        "\n",
        "    loss = criterion(hypothesis, Y)\n",
        "    loss.backward()\n",
        "\n",
        "    optimizer.step()\n",
        "\n",
        "    if epoch % 100 == 0:\n",
        "        print('epoch: {:4d}/{}, cost: {}'.format(\n",
        "            epoch, epochs, loss.item()\n",
        "        ))"
      ]
    },
    {
      "cell_type": "code",
      "execution_count": 16,
      "metadata": {
        "id": "4apKWmCwLhQV",
        "outputId": "36ea2f3b-fa8f-4bcb-c6bb-02cf9c5b57e0",
        "colab": {
          "base_uri": "https://localhost:8080/"
        }
      },
      "outputs": [
        {
          "output_type": "stream",
          "name": "stdout",
          "text": [
            "tensor(1., device='cuda:0')\n"
          ]
        }
      ],
      "source": [
        "with torch.no_grad():\n",
        "  predicted = (model.forward(X) > 0.5).float()\n",
        "  accuracy = (predicted == Y).float().mean()\n",
        "  print(accuracy)\n"
      ]
    },
    {
      "cell_type": "code",
      "source": [],
      "metadata": {
        "id": "1uQG1AT5ND53"
      },
      "execution_count": null,
      "outputs": []
    }
  ],
  "metadata": {
    "language_info": {
      "name": "python"
    },
    "orig_nbformat": 4,
    "colab": {
      "provenance": [],
      "gpuType": "T4",
      "include_colab_link": true
    },
    "kernelspec": {
      "name": "python3",
      "display_name": "Python 3"
    },
    "accelerator": "GPU"
  },
  "nbformat": 4,
  "nbformat_minor": 0
}