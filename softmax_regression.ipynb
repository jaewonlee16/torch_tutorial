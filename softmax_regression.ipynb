{
 "cells": [
  {
   "cell_type": "code",
   "execution_count": null,
   "metadata": {},
   "outputs": [],
   "source": [
    "import numpy as np\n",
    "\n",
    "import torch\n",
    "import torch.nn as nn\n",
    "import torch.nn.functional as F\n",
    "import torch.optim as optim\n",
    "from torch.utils.data import Dataset\n",
    "from torch.utils.data import DataLoader"
   ]
  },
  {
   "cell_type": "code",
   "execution_count": null,
   "metadata": {},
   "outputs": [],
   "source": [
    "class MyDataset(torch.utils.data.Dataset):\n",
    "    \"\"\"Some Information about MyDataset\"\"\"\n",
    "    def __init__(self):\n",
    "        super(MyDataset, self).__init__()\n",
    "        self.x = [[1, 2, 1, 1],\n",
    "           [2, 1, 3, 2],\n",
    "           [3, 1, 3, 4],\n",
    "           [4, 1, 5, 5],\n",
    "           [1, 7, 5, 5],\n",
    "           [1, 2, 5, 6],\n",
    "           [1, 6, 6, 6],\n",
    "           [1, 7, 7, 7]]\n",
    "\n",
    "        self.y = [2, 2, 2, 1, 1, 1, 0, 0]\n",
    "        self.y_onehot = torch.zeros(8, 3)\n",
    "        self.y_onehot.scatter_(1, y_train.unsqueeze(1), 1)\n",
    "\n",
    "    def __getitem__(self, index):\n",
    "        x = torch.FloatTensor(self.x[index])\n",
    "        y = torch.FloatTensor(self.y[index])\n",
    "        return x, y\n",
    "\n",
    "    def __len__(self):\n",
    "        return len(self.x)"
   ]
  },
  {
   "cell_type": "code",
   "execution_count": null,
   "metadata": {},
   "outputs": [],
   "source": [
    "class SoftMaxClassifierModule(nn.Module):\n",
    "    \"\"\"Some Information about SoftMaxClassifierModule\"\"\"\n",
    "    def __init__(self):\n",
    "        super(SoftMaxClassifierModule, self).__init__()\n",
    "        self.linear = nn.Linear(8, 3)\n",
    "\n",
    "    def forward(self, x):\n",
    "\n",
    "        return self.linear(x)"
   ]
  },
  {
   "cell_type": "code",
   "execution_count": null,
   "metadata": {},
   "outputs": [],
   "source": [
    "dataset = MyDataset()\n",
    "dataloader = torch.utils.DataLoader(dataset, batch_size=1, suffle=True)"
   ]
  },
  {
   "cell_type": "code",
   "execution_count": null,
   "metadata": {},
   "outputs": [],
   "source": [
    "model = SoftMaxClassifierModule()\n",
    "optimizer = torch.optim.SGD(model.parameters(), lr=1e-2)"
   ]
  },
  {
   "cell_type": "code",
   "execution_count": null,
   "metadata": {},
   "outputs": [],
   "source": [
    "epochs = 1000\n",
    "\n",
    "for epoch in range(epochs):\n",
    "    for batch_idx, xy in enumerate(dataset):\n",
    "        x_train, y_train = xy\n",
    "        prediction = model.forward(x_train)\n",
    "        loss = F.cross_entropy(prediction, y_train)\n",
    "\n",
    "        optimizer.zero_grad()\n",
    "        loss.backward()\n",
    "        optimizer.step()\n",
    "\n",
    "        if epoch % 20 == 0:\n",
    "            print('epoch {:4d}/{}, batch {}, prediction {}, loss {}'.format(\n",
    "                epoch, epochs, batch_idx, prediction, loss\n",
    "            ))"
   ]
  }
 ],
 "metadata": {
  "language_info": {
   "name": "python"
  },
  "orig_nbformat": 4
 },
 "nbformat": 4,
 "nbformat_minor": 2
}
